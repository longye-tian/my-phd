{
  "cells": [
    {
      "cell_type": "markdown",
      "metadata": {
        "id": "tpu3AomHvJVN"
      },
      "source": [
        "# PBMA Ayagari\n",
        "\n",
        "This notebook aims to illustrate Present-bias with Mixed Actions(PBMA) in the context of Ayagari 1994 model.\n",
        "\n",
        "In Aiyagari 1994 model, uninsured idiosyncratic income shocks cannot generate a fat-tailed wealth distribution under plausible parameters.\n",
        "\n",
        "What happens if agents are having PBMA?"
      ]
    },
    {
      "cell_type": "markdown",
      "metadata": {
        "id": "4CriWUyov60M"
      },
      "source": [
        "## Imports"
      ]
    },
    {
      "cell_type": "markdown",
      "metadata": {
        "id": "_vnCAUXmwIbc"
      },
      "source": [
        "Here are the imports."
      ]
    },
    {
      "cell_type": "code",
      "execution_count": 1,
      "metadata": {
        "id": "lmTO-hkmEzgU"
      },
      "outputs": [],
      "source": [
        "import numpy as np\n",
        "import time\n",
        "import jax\n",
        "import jax.numpy as jnp\n",
        "import numpy as np\n",
        "from collections import namedtuple\n",
        "import matplotlib.pyplot as plt\n",
        "from scipy.optimize import bisect\n",
        "jax.config.update(\"jax_enable_x64\", True)"
      ]
    },
    {
      "cell_type": "markdown",
      "metadata": {
        "id": "Qb3ZVKmfwD4U"
      },
      "source": [
        "We use the following function to compute stationary distribution."
      ]
    },
    {
      "cell_type": "code",
      "execution_count": 2,
      "metadata": {
        "id": "j-ilsYBawG3L"
      },
      "outputs": [],
      "source": [
        "@jax.jit\n",
        "def compute_stationary(P):\n",
        "    n = P.shape[0]\n",
        "    I = jnp.identity(n)\n",
        "    O = jnp.ones((n, n))\n",
        "    A = I - jnp.transpose(P) + O\n",
        "    return jnp.linalg.solve(A, jnp.ones(n))"
      ]
    },
    {
      "cell_type": "markdown",
      "metadata": {
        "id": "8WQYweHWzQKF"
      },
      "source": [
        "## Households"
      ]
    },
    {
      "cell_type": "markdown",
      "metadata": {
        "id": "GTErNVW_zR0F"
      },
      "source": [
        "Households have the following characteristics:\n",
        "\n",
        "- infinitely lived\n",
        "- ex-ante identical\n",
        "- face an uninsurable idiosyncratic labor income shocks\n",
        "- face a borrowing constraint\n",
        "- with a short-run discount factor $\\beta$ and a long-run discount factor $\\delta$ and $\\beta\\neq\\delta$."
      ]
    },
    {
      "cell_type": "markdown",
      "metadata": {
        "id": "ZRv3gV8n2ovG"
      },
      "source": [
        "The saving problem faced by a typical household is\n",
        "\n",
        "$$\n",
        "\\max_{\\{c_t\\}_{t\\ge 0}} \\mathbb{E} \\left[u(c_0)+ \\beta\\sum_{t=1}^\\infty\\delta^t u(c_t)\\right]\n",
        "$$\n",
        "\n",
        "subject to\n",
        "\n",
        "$$\n",
        "a_{t+1}+c_t\\le wz_t +(1+r)a_t, \\quad c_t\\ge 0,\\quad a_t\\le -B\n",
        "$$"
      ]
    },
    {
      "cell_type": "markdown",
      "metadata": {
        "id": "D09jGT6C3nl4"
      },
      "source": [
        "where\n",
        "- $c_t$ is the current consumption\n",
        "- $a_t$ is asset holding\n",
        "- $z_t$ is an exogenous conponent of labor income capturing stochastic unemployment risk\n",
        "- $w$ is the wage\n",
        "- $r$ is the interest rate\n",
        "- $B$ is the maximum amount that the agent is allowed the borrow."
      ]
    },
    {
      "cell_type": "markdown",
      "metadata": {
        "id": "dTfLrgPY4B2p"
      },
      "source": [
        "Now we setup the household parameters."
      ]
    },
    {
      "cell_type": "code",
      "execution_count": 3,
      "metadata": {
        "id": "hYY6_aSl4Kng"
      },
      "outputs": [],
      "source": [
        "Household = namedtuple('Household',\n",
        "                       ('β', # short-run discount factor\n",
        "                        'δ', # continuation discount factor\n",
        "                        'a_grid', 'z_grid', 'Π'))"
      ]
    },
    {
      "cell_type": "code",
      "execution_count": 4,
      "metadata": {
        "id": "-a2RC8Gc5ZQd"
      },
      "outputs": [],
      "source": [
        "def create_household(β=0.5,                      # short-run discount factor\n",
        "                     δ=0.96,                       # continuation discount factor\n",
        "                     Π=[[0.9, 0.1], [0.1, 0.9]],  # Markov chain\n",
        "                     z_grid=[0.1, 1.0],           # Exogenous states\n",
        "                     a_min=1e-10, a_max=20,       # Asset grid\n",
        "                     a_size=200):\n",
        "    \"\"\"\n",
        "    Create a namedtuple that stores all data needed to solve the household\n",
        "    problem, given prices.\n",
        "\n",
        "    \"\"\"\n",
        "    a_grid = jnp.linspace(a_min, a_max, a_size)\n",
        "    z_grid, Π = map(jnp.array, (z_grid, Π))\n",
        "    return Household(β=β, δ=δ, a_grid=a_grid, z_grid=z_grid, Π=Π)"
      ]
    },
    {
      "cell_type": "markdown",
      "metadata": {
        "id": "sCUzwE5F5oo4"
      },
      "source": [
        "We assume log utility, i.e.,"
      ]
    },
    {
      "cell_type": "code",
      "execution_count": 5,
      "metadata": {
        "id": "gpk3-7_R5stI"
      },
      "outputs": [],
      "source": [
        "u = jnp.log"
      ]
    },
    {
      "cell_type": "markdown",
      "metadata": {
        "id": "tf7CPC-L5XCD"
      },
      "source": [
        "Here’s a tuple that stores the wage rate and interest rate, as well as a function that creates a price namedtuple with default values."
      ]
    },
    {
      "cell_type": "code",
      "execution_count": 6,
      "metadata": {
        "id": "j3Ldnd_X5WAD"
      },
      "outputs": [],
      "source": [
        "Prices = namedtuple('Prices', ('r', 'w'))\n",
        "\n",
        "def create_prices(r=0.01,   # Interest rate\n",
        "                  w=1.0):   # Wages\n",
        "    return Prices(r=r, w=w)"
      ]
    },
    {
      "cell_type": "markdown",
      "metadata": {
        "id": "EOIZe5o555wj"
      },
      "source": [
        "### Compute Continuation Value Function"
      ]
    },
    {
      "cell_type": "markdown",
      "metadata": {
        "id": "C5cLkdJW5-H6"
      },
      "source": [
        "In this section, we compute the continuation value function.\n",
        "\n",
        "\n",
        "We set the Bellman aggregator for the continuation value problem, which is as follows\n",
        "\n",
        "$$\n",
        "B(a,z,a') = u(\\underbrace{wz+(1+r)a-a'}_{\\text{consumption}}) + \\delta \\sum_{z'}v(a',z')\\Pi(z,z')\n",
        "$$\n",
        "for all $(a,z,a')$.\n",
        "\n",
        "Note that here we use the long-run discount factor $\\delta$ to find the continuation value function.\n",
        "\n",
        "\n",
        "Moreover, since the optimal continuation policy is a stationary policy, here we use the classical DP methods to find the optimal continuation policy.\n",
        "\n"
      ]
    },
    {
      "cell_type": "code",
      "execution_count": 7,
      "metadata": {
        "id": "NBnqf7qw63d1"
      },
      "outputs": [],
      "source": [
        "@jax.jit\n",
        "def B(v, household, prices):\n",
        "    # Unpack\n",
        "    β, δ, a_grid, z_grid, Π = household\n",
        "    a_size, z_size = len(a_grid), len(z_grid)\n",
        "    r, w = prices\n",
        "\n",
        "    # Compute current consumption as array c[i, j, ip]\n",
        "    a  = jnp.reshape(a_grid, (a_size, 1, 1))    # a[i]   ->  a[i, j, ip]\n",
        "    z  = jnp.reshape(z_grid, (1, z_size, 1))    # z[j]   ->  z[i, j, ip]\n",
        "    ap = jnp.reshape(a_grid, (1, 1, a_size))    # ap[ip] -> ap[i, j, ip]\n",
        "    c = w * z + (1 + r) * a - ap\n",
        "\n",
        "    # Calculate continuation rewards at all combinations of (a, z, ap)\n",
        "    v = jnp.reshape(v, (1, 1, a_size, z_size))  # v[ip, jp] -> v[i, j, ip, jp]\n",
        "    Π = jnp.reshape(Π, (1, z_size, 1, z_size))  # Π[j, jp]  -> Π[i, j, ip, jp]\n",
        "    EV = jnp.sum(v * Π, axis=-1)                 # sum over last index jp\n",
        "\n",
        "    # Compute the right-hand side of the Bellman equation\n",
        "    return jnp.where(c > 0, u(c) + δ * EV, -jnp.inf)"
      ]
    },
    {
      "cell_type": "markdown",
      "metadata": {
        "id": "8QqnOO3z7CP5"
      },
      "source": [
        "The next function computes the greedy policies."
      ]
    },
    {
      "cell_type": "code",
      "execution_count": 8,
      "metadata": {
        "id": "l2YIytAR6__3"
      },
      "outputs": [],
      "source": [
        "@jax.jit\n",
        "def get_greedy(v, household, prices):\n",
        "    \"\"\"\n",
        "    Computes a v-greedy policy σ, returned as a set of indices.  If\n",
        "    σ[i, j] equals ip, then a_grid[ip] is the maximizer at i, j.\n",
        "\n",
        "    \"\"\"\n",
        "    return jnp.argmax(B(v, household, prices), axis=-1) # argmax over ap"
      ]
    },
    {
      "cell_type": "markdown",
      "metadata": {
        "id": "aFf1kglF7IWA"
      },
      "source": [
        "The following function computes the arrary $r_\\sigma$ which gives current rewards given stationary policy $\\sigma$.\n",
        "\n"
      ]
    },
    {
      "cell_type": "code",
      "execution_count": 9,
      "metadata": {
        "id": "Dnl0S9S37oTl"
      },
      "outputs": [],
      "source": [
        "@jax.jit\n",
        "def compute_r_σ(σ, household, prices):\n",
        "    \"\"\"\n",
        "    Compute current rewards at each i, j under policy σ.  In particular,\n",
        "\n",
        "        r_σ[i, j] = u((1 + r)a[i] + wz[j] - a'[ip])\n",
        "\n",
        "    when ip = σ[i, j].\n",
        "\n",
        "    \"\"\"\n",
        "    # Unpack\n",
        "    β, δ, a_grid, z_grid, Π = household\n",
        "    a_size, z_size = len(a_grid), len(z_grid)\n",
        "    r, w = prices\n",
        "\n",
        "    # Compute r_σ[i, j]\n",
        "    a = jnp.reshape(a_grid, (a_size, 1))\n",
        "    z = jnp.reshape(z_grid, (1, z_size))\n",
        "    ap = a_grid[σ]\n",
        "    c = (1 + r) * a + w * z - ap\n",
        "    r_σ = u(c)\n",
        "\n",
        "    return r_σ"
      ]
    },
    {
      "cell_type": "markdown",
      "metadata": {
        "id": "2lqgp5cA7sdP"
      },
      "source": [
        "The continuation $\\sigma$-value function $v_\\sigma$ is defined as\n",
        "\n",
        "$$\n",
        "v_\\sigma  = (I-\\delta P_\\sigma)^{-1} r_\\sigma\n",
        "$$\n",
        "\n",
        "To compute this vector, we set up the linear map $v\\mapsto R_\\sigma v$ where $R_\\sigma:= I-\\delta P_\\sigma$.\n",
        "\n",
        "This map can be expressed as\n",
        "\n",
        "$$\n",
        "(R_\\sigma v)(a,z) = v(a,z) -\\delta \\sum_{z'} v(\\sigma(a,z),z')\\Pi(z,z')\n",
        "$$"
      ]
    },
    {
      "cell_type": "code",
      "execution_count": 10,
      "metadata": {
        "id": "798w6_vT8jiM"
      },
      "outputs": [],
      "source": [
        "@jax.jit\n",
        "def R_σ(v, σ, household):\n",
        "    # Unpack\n",
        "    β, δ, a_grid, z_grid, Π = household\n",
        "    a_size, z_size = len(a_grid), len(z_grid)\n",
        "\n",
        "    # Set up the array v[σ[i, j], jp]\n",
        "    zp_idx = jnp.arange(z_size)\n",
        "    zp_idx = jnp.reshape(zp_idx, (1, 1, z_size))\n",
        "    σ = jnp.reshape(σ, (a_size, z_size, 1))\n",
        "    V = v[σ, zp_idx]\n",
        "\n",
        "    # Expand Π[j, jp] to Π[i, j, jp]\n",
        "    Π = jnp.reshape(Π, (1, z_size, z_size))\n",
        "\n",
        "    # Compute and return v[i, j] - δ Σ_jp v[σ[i, j], jp] * Π[j, jp]\n",
        "    return v - δ * jnp.sum(V * Π, axis=-1)"
      ]
    },
    {
      "cell_type": "markdown",
      "metadata": {
        "id": "hh9hLsdm8sIv"
      },
      "source": [
        "The next function computes the continuation value of a given policy."
      ]
    },
    {
      "cell_type": "code",
      "execution_count": 11,
      "metadata": {
        "id": "xEhejCvR8x82"
      },
      "outputs": [],
      "source": [
        "@jax.jit\n",
        "def get_value(σ, household, prices):\n",
        "    \"\"\"\n",
        "    Get the continuation value of policy σ by computing\n",
        "\n",
        "        v_σ = R_σ^{-1} r_σ\n",
        "\n",
        "    \"\"\"\n",
        "    r_σ = compute_r_σ(σ, household, prices)\n",
        "    # Reduce R_σ to a function in v\n",
        "    _R_σ = lambda v: R_σ(v, σ, household)\n",
        "    # Compute v_σ = R_σ^{-1} r_σ using an iterative routing.\n",
        "    return jax.scipy.sparse.linalg.bicgstab(_R_σ, r_σ)[0]"
      ]
    },
    {
      "cell_type": "markdown",
      "metadata": {
        "id": "HjPMZFVs85Up"
      },
      "source": [
        "Here is the Howard Policy Iteration."
      ]
    },
    {
      "cell_type": "code",
      "execution_count": 12,
      "metadata": {
        "id": "_Sg94Yuj82wp"
      },
      "outputs": [],
      "source": [
        "def howard_policy_iteration(household, prices,\n",
        "                            tol=1e-4, max_iter=10_000, verbose=False):\n",
        "    \"\"\"\n",
        "    Howard policy iteration routine.\n",
        "\n",
        "    \"\"\"\n",
        "    β, δ, a_grid, z_grid, Π = household\n",
        "    a_size, z_size = len(a_grid), len(z_grid)\n",
        "    σ = jnp.zeros((a_size, z_size), dtype=int)\n",
        "\n",
        "    v_σ = get_value(σ, household, prices)\n",
        "    i = 0\n",
        "    error = tol + 1\n",
        "    while error > tol and i < max_iter:\n",
        "        σ_new = get_greedy(v_σ, household, prices)\n",
        "        v_σ_new = get_value(σ_new, household, prices)\n",
        "        error = jnp.max(jnp.abs(v_σ_new - v_σ))\n",
        "        σ = σ_new\n",
        "        v_σ = v_σ_new\n",
        "        i = i + 1\n",
        "        if verbose:\n",
        "            print(f\"Concluded loop {i} with error {error}.\")\n",
        "    return σ, v_σ"
      ]
    },
    {
      "cell_type": "markdown",
      "metadata": {
        "id": "dlSJ2yGt9BbB"
      },
      "source": [
        "### Compute the Lifetime Value Function.\n",
        "\n",
        "Compute the lifetime value function is by solving a two-period DP problem. The continuation value is the continuation value function $v_c$ obtained from the HPI.\n",
        "\n",
        "\n",
        "The Bellman aggregator for this part of the problem is shown below:\n",
        "\n",
        "$$\n",
        "B_0(a,z,a') = u(\\underbrace{wz+(1+r)a-a'}_{\\text{consumption}}) + \\beta\\delta \\sum_{z'}v_c(a',z')\\Pi(z,z')\n",
        "$$\n",
        "for all $(a,z,a')$.\n",
        "\n",
        "We can obtain the short-run optimal policy by finding the maximum for each $(a,z)$."
      ]
    },
    {
      "cell_type": "markdown",
      "metadata": {
        "id": "LpFi--JaMRa6"
      },
      "source": [
        "Here we have for $B_0$"
      ]
    },
    {
      "cell_type": "code",
      "execution_count": 13,
      "metadata": {
        "id": "lIHuvcdnMOFC"
      },
      "outputs": [],
      "source": [
        "@jax.jit\n",
        "def B_0(v, household, prices):\n",
        "    # Unpack\n",
        "    β, δ, a_grid, z_grid, Π = household\n",
        "    a_size, z_size = len(a_grid), len(z_grid)\n",
        "    r, w = prices\n",
        "\n",
        "    # Compute current consumption as array c[i, j, ip]\n",
        "    a  = jnp.reshape(a_grid, (a_size, 1, 1))    # a[i]   ->  a[i, j, ip]\n",
        "    z  = jnp.reshape(z_grid, (1, z_size, 1))    # z[j]   ->  z[i, j, ip]\n",
        "    ap = jnp.reshape(a_grid, (1, 1, a_size))    # ap[ip] -> ap[i, j, ip]\n",
        "    c = w * z + (1 + r) * a - ap\n",
        "\n",
        "    # Calculate continuation rewards at all combinations of (a, z, ap)\n",
        "    v = jnp.reshape(v, (1, 1, a_size, z_size))  # v[ip, jp] -> v[i, j, ip, jp]\n",
        "    Π = jnp.reshape(Π, (1, z_size, 1, z_size))  # Π[j, jp]  -> Π[i, j, ip, jp]\n",
        "    EV = jnp.sum(v * Π, axis=-1)                 # sum over last index jp\n",
        "\n",
        "    # Compute the right-hand side of the Bellman equation\n",
        "    return jnp.where(c > 0, u(c) + β * δ * EV, -jnp.inf)"
      ]
    },
    {
      "cell_type": "markdown",
      "metadata": {
        "id": "p1faHcEOYXCN"
      },
      "source": [
        "We also need new\n",
        "\n",
        "\n",
        "\n",
        "*   `get_greedy` function.\n",
        "*   `R_σ` function\n",
        "-   `get_value` function\n",
        "\n",
        "by change  δ to β\n",
        "\n",
        "\n"
      ]
    },
    {
      "cell_type": "code",
      "execution_count": 14,
      "metadata": {
        "id": "LLv0KZFYYcAc"
      },
      "outputs": [],
      "source": [
        "@jax.jit\n",
        "def get_greedy_0(v, household, prices):\n",
        "    \"\"\"\n",
        "    Computes a v-greedy policy σ, returned as a set of indices.  If\n",
        "    σ[i, j] equals ip, then a_grid[ip] is the maximizer at i, j.\n",
        "\n",
        "    \"\"\"\n",
        "    return jnp.argmax(B_0(v, household, prices), axis=-1)\n",
        "\n",
        "\n",
        "@jax.jit\n",
        "def R_σ_0(v, σ, household):\n",
        "    # Unpack\n",
        "    β, δ, a_grid, z_grid, Π = household\n",
        "    a_size, z_size = len(a_grid), len(z_grid)\n",
        "\n",
        "    # Set up the array v[σ[i, j], jp]\n",
        "    zp_idx = jnp.arange(z_size)\n",
        "    zp_idx = jnp.reshape(zp_idx, (1, 1, z_size))\n",
        "    σ = jnp.reshape(σ, (a_size, z_size, 1))\n",
        "    V = v[σ, zp_idx]\n",
        "\n",
        "    # Expand Π[j, jp] to Π[i, j, jp]\n",
        "    Π = jnp.reshape(Π, (1, z_size, z_size))\n",
        "\n",
        "    # Compute and return v[i, j] - δ Σ_jp v[σ[i, j], jp] * Π[j, jp]\n",
        "    return v - β * δ * jnp.sum(V * Π, axis=-1)\n",
        "\n",
        "@jax.jit\n",
        "def get_value_0(σ, household, prices):\n",
        "    \"\"\"\n",
        "    Get the continuation value of policy σ by computing\n",
        "\n",
        "        v_σ = R_σ^{-1} r_σ\n",
        "\n",
        "    \"\"\"\n",
        "    r_σ = compute_r_σ(σ, household, prices)\n",
        "    # Reduce R_σ to a function in v\n",
        "    _R_σ_0 = lambda v: R_σ_0(v, σ, household)\n",
        "    # Compute v_σ = R_σ^{-1} r_σ using an iterative routing.\n",
        "    return jax.scipy.sparse.linalg.bicgstab(_R_σ_0, r_σ)[0]"
      ]
    },
    {
      "cell_type": "markdown",
      "metadata": {
        "id": "ZXJ2EALjMpsC"
      },
      "source": [
        "Then, we can find the $v_c$-greedy policy use the previous `get_greedy()` function.\n",
        "\n",
        "This gives the $v_c$-greedy policy over the short-run policy operators.\n",
        "\n",
        "And we then can apply the `get_value()` function to get the lifetime value function.\n",
        "\n",
        "Hence, this allows us to get the PMBA lifetime value function and optimal policy pair.\n",
        "\n",
        "The following function combines the computation for lifetime value function into one function."
      ]
    },
    {
      "cell_type": "code",
      "execution_count": 15,
      "metadata": {
        "id": "pTVWNDQ7Mtqh"
      },
      "outputs": [],
      "source": [
        "def compute_lifetime(household, prices):\n",
        "  # Unpack\n",
        "    β, δ, a_grid, z_grid, Π = household\n",
        "    a_size, z_size = len(a_grid), len(z_grid)\n",
        "    r, w = prices\n",
        "\n",
        "  # get continuation value function and optimal continuation policy using HPI\n",
        "    σ_c, v_c = howard_policy_iteration(household, prices)\n",
        "\n",
        "  # Compute the v_c-greedy policy using get_greedy_0\n",
        "    σ_star = get_greedy_0(v_c, household, prices)\n",
        "\n",
        "  # Compute the lifetime value function\n",
        "    v_star = get_value_0(σ_star, household, prices)\n",
        "    return σ_star, v_star\n"
      ]
    },
    {
      "cell_type": "code",
      "execution_count": null,
      "metadata": {
        "id": "bUhItYzhNrSS"
      },
      "outputs": [],
      "source": []
    },
    {
      "cell_type": "markdown",
      "metadata": {
        "id": "SXkAvWRmv_8M"
      },
      "source": [
        "## Firm Dynamics"
      ]
    },
    {
      "cell_type": "markdown",
      "metadata": {
        "id": "mzaAfWG9wSQE"
      },
      "source": [
        "Consider the representative firm with\n",
        "\n",
        "$$\n",
        "Y = AK^{\\alpha} N^{1-\\alpha}\n",
        "$$\n",
        "\n",
        "The firm's problem is to solve the following static optimization problem:\n",
        "\n",
        "$$\n",
        "\\max_{K,N} \\{AK^{\\alpha} N^{1-\\alpha} - (r+\\eta) K - wN\\}\n",
        "$$\n",
        "\n",
        "i.e., the firm chooses capital and labor demand to maximize total profit. This give the following first-order conditions."
      ]
    },
    {
      "cell_type": "markdown",
      "metadata": {
        "id": "W3kVuflSxtf9"
      },
      "source": [
        "The first-order condition with respect to capital demanded:\n",
        "\n",
        "\\begin{equation}\n",
        "r = A\\alpha\\left(\\frac{N}{K}\\right)^{1-\\alpha}-\\eta\n",
        "\\end{equation}\n",
        "\n",
        "\n",
        "\n",
        "The first-order condition with respect to labor demanded:\n",
        "\n",
        "$$\n",
        "w = A(1-\\alpha) \\left(\\frac{K}{N}\\right)^{\\alpha}\n",
        "$$"
      ]
    },
    {
      "cell_type": "markdown",
      "metadata": {
        "id": "VgnZxiu7xn5d"
      },
      "source": [
        "where\n",
        "\n",
        "\n",
        "\n",
        "*   $Y$ is the total output\n",
        "*   $K$ is the total capital demanded by the firm\n",
        "-   $N$ is the total labor demanded by the firm\n",
        "-   $\\alpha$ is the capital share, a parameter with $\\alpha\\in(0,1)$\n",
        "\n",
        "-   $\\eta$ is the depreciation rate, a parameter with $\\eta\\in(0,1)$\n",
        "\n",
        "-   $r$ is the interest rate\n",
        "-   $w$ is the wage price of labor\n",
        "\n"
      ]
    },
    {
      "cell_type": "markdown",
      "metadata": {
        "id": "i3Fpc4BGxpCk"
      },
      "source": [
        "Now we store the parameters in the following namedtuple:"
      ]
    },
    {
      "cell_type": "code",
      "execution_count": 16,
      "metadata": {
        "id": "E0ONfLHGE_17"
      },
      "outputs": [],
      "source": [
        "Firm = namedtuple('Firm', ('A', 'N', 'α', 'η'))\n",
        "\n",
        "def create_firm(A=1.0,\n",
        "                N=1.0,\n",
        "                α=0.33,\n",
        "                η=0.05):\n",
        "    \"\"\"\n",
        "    Create a namedtuple that stores firm data.\n",
        "\n",
        "    \"\"\"\n",
        "    return Firm(A=A, N=N, α=α, η=η)"
      ]
    },
    {
      "cell_type": "markdown",
      "metadata": {
        "id": "ILByMbxxy0t2"
      },
      "source": [
        "Here is the interest rate associated with a given demand for capital"
      ]
    },
    {
      "cell_type": "code",
      "execution_count": 17,
      "metadata": {
        "id": "Rkig-3Tny90d"
      },
      "outputs": [],
      "source": [
        "def r_given_k(K, firm):\n",
        "    \"\"\"\n",
        "    Inverse demand curve for capital.  The interest rate associated with a\n",
        "    given demand for capital K.\n",
        "    \"\"\"\n",
        "    A, N, α, η = firm\n",
        "    return A * α * (N / K)**(1 - α) - η"
      ]
    },
    {
      "cell_type": "markdown",
      "metadata": {
        "id": "yFoDDam8y_x1"
      },
      "source": [
        "Here is the first-order condition for wages associate with a given interest rate"
      ]
    },
    {
      "cell_type": "code",
      "execution_count": 18,
      "metadata": {
        "id": "rok7QA1xzJ19"
      },
      "outputs": [],
      "source": [
        "def r_to_w(r, firm):\n",
        "    \"\"\"\n",
        "    Equilibrium wages associated with a given interest rate r.\n",
        "    \"\"\"\n",
        "    A, N, α, η = firm\n",
        "    return A * (1 - α) * (A * α / (r + η))**(α / (1 - α))"
      ]
    },
    {
      "cell_type": "markdown",
      "metadata": {
        "id": "i1_r7N8ozMGW"
      },
      "source": [
        "## Solve the Equilibrium"
      ]
    },
    {
      "cell_type": "markdown",
      "metadata": {
        "id": "nn99AuNwU0eE"
      },
      "source": [
        "Under PBMA, there are two equilibria, one for the short-run policy and one for the continuation policy.\n",
        "\n",
        "When the agent finds out their type at the beginning of each period -- whether use $\\delta$ or $\\beta\\delta$ as their discount factor -- this leads to different types of equilibium level of capital.\n",
        "\n",
        "One justification for this two equilibria is that both are rational expectation equilibrium because all the changes in the discount factors is considered as unexpected, or behavioral shocks.\n",
        "\n",
        "\n",
        "In the equilibrium, the capital supply equals the capital demand.\n",
        "\n",
        "First, we compute the stationary distribution of a given policy and then compute the capital supply for the short-run policy, i.e., using the short-run policy."
      ]
    },
    {
      "cell_type": "code",
      "execution_count": 19,
      "metadata": {
        "id": "BRGmlizYVYbi"
      },
      "outputs": [],
      "source": [
        "@jax.jit\n",
        "def compute_asset_stationary(σ, household):\n",
        "    # Unpack\n",
        "    β, δ, a_grid, z_grid, Π = household\n",
        "    a_size, z_size = len(a_grid), len(z_grid)\n",
        "\n",
        "    # Construct P_σ as an array of the form P_σ[i, j, ip, jp]\n",
        "    ap_idx = jnp.arange(a_size)\n",
        "    ap_idx = jnp.reshape(ap_idx, (1, 1, a_size, 1))\n",
        "    σ = jnp.reshape(σ, (a_size, z_size, 1, 1))\n",
        "    A = jnp.where(σ == ap_idx, 1, 0)\n",
        "    Π = jnp.reshape(Π, (1, z_size, 1, z_size))\n",
        "    P_σ = A * Π\n",
        "\n",
        "    # Reshape P_σ into a matrix\n",
        "    n = a_size * z_size\n",
        "    P_σ = jnp.reshape(P_σ, (n, n))\n",
        "\n",
        "    # Get stationary distribution and reshape back onto [i, j] grid\n",
        "    ψ = compute_stationary(P_σ)\n",
        "    ψ = jnp.reshape(ψ, (a_size, z_size))\n",
        "\n",
        "    # Sum along the rows to get the marginal distribution of assets\n",
        "    ψ_a = jnp.sum(ψ, axis=1)\n",
        "    return ψ_a"
      ]
    },
    {
      "cell_type": "markdown",
      "metadata": {
        "id": "UWKf5SVVVf-B"
      },
      "source": [
        "Then, the following function computes aggregate capital supply."
      ]
    },
    {
      "cell_type": "code",
      "execution_count": 20,
      "metadata": {
        "id": "LbOJgsEIVrOb"
      },
      "outputs": [],
      "source": [
        "def capital_supply(σ, household):\n",
        "    \"\"\"\n",
        "    Induced level of capital stock under the policy, taking r and w as given.\n",
        "\n",
        "    \"\"\"\n",
        "    β, δ, a_grid, z_grid, Π = household\n",
        "    ψ_a = compute_asset_stationary(σ, household)\n",
        "    return float(jnp.sum(ψ_a * a_grid))"
      ]
    },
    {
      "cell_type": "markdown",
      "metadata": {
        "id": "v3-5z9GgVwf7"
      },
      "source": [
        "The procedure to compute a stationary rational expectation equilibrium is shown below:\n",
        "\n",
        "\n",
        "\n",
        "\n",
        "1.   Set $n=0$, start with inital guess $K_0$ for aggregate capital\n",
        "2.   Determine prices, $r$ and $w$, from the firm decision problem, given $K_n$\n",
        "3.   Compute the optimal saving policy of the household given these prices\n",
        "4.   Compute aggregate capital $K_{n+1}$ as the mean of steady state capital given this saving policy\n",
        "5.   If $K_{n+1}\\approx K_n$, stop, otherwise back to step 2.\n",
        "\n",
        "\n",
        "We can write the sequence of operations in step 2-4 as\n",
        "\n",
        "$$\n",
        "K_{n+1} = G(K_n)\n",
        "$$\n",
        "\n",
        "In other words, our problem is to find the fixed-point of the one-dimensional map $G$."
      ]
    },
    {
      "cell_type": "code",
      "execution_count": 21,
      "metadata": {
        "id": "0AdsOM-vVvd7"
      },
      "outputs": [],
      "source": [
        "def G_short(K, firm, household):\n",
        "    # Get prices r, w associated with K\n",
        "    r = r_given_k(K, firm)\n",
        "    w = r_to_w(r, firm)\n",
        "    # Generate a household object with these prices, compute\n",
        "    # aggregate capital.\n",
        "    prices = create_prices(r=r, w=w)\n",
        "    σ_star, v_star = compute_lifetime(household, prices)\n",
        "\n",
        "    return capital_supply(σ_star, household)"
      ]
    },
    {
      "cell_type": "markdown",
      "metadata": {
        "id": "3HTnVQrCaRBN"
      },
      "source": [
        "Now we compute the equilibrium using the above algorithm. Moreover, we use damped iteration scheme of the following form\n",
        "\n",
        "$$\n",
        "K_{n+1} = \\gamma K_n + (1-\\gamma) G(K_n)\n",
        "$$\n",
        "\n",
        "The next function is for computing the equilibrium."
      ]
    },
    {
      "cell_type": "code",
      "execution_count": 22,
      "metadata": {
        "id": "wE1zIomzayPY"
      },
      "outputs": [],
      "source": [
        "def compute_equilibrium_short(firm, household,\n",
        "                        K0=6, γ=0.99, max_iter=1_000, tol=1e-4,\n",
        "                        print_skip=10, verbose=False):\n",
        "    n = 0\n",
        "    K = K0\n",
        "    error = tol + 1\n",
        "    while error > tol and n < max_iter:\n",
        "        new_K = γ * K + (1 - γ) * G_short(K, firm, household)\n",
        "        error = abs(new_K - K)\n",
        "        K = new_K\n",
        "        n += 1\n",
        "        if verbose and n % print_skip == 0:\n",
        "            print(f\"At iteration {n} with error {error}\")\n",
        "    return K, n"
      ]
    },
    {
      "cell_type": "markdown",
      "metadata": {
        "id": "y42rOXXPbDdN"
      },
      "source": [
        "Now let's compute the equilibrium associated with short-run policy."
      ]
    },
    {
      "cell_type": "code",
      "execution_count": null,
      "metadata": {
        "colab": {
          "base_uri": "https://localhost:8080/"
        },
        "id": "AHOSLl8xbGdC",
        "outputId": "88760c72-8065-47db-e3c7-7d0c6d8ba25d"
      },
      "outputs": [
        {
          "name": "stdout",
          "output_type": "stream",
          "text": [
            "\n",
            "Computing equilibrium capital stock\n",
            "At iteration 10 with error 0.04264585937555054\n",
            "At iteration 20 with error 0.035350521505255195\n",
            "At iteration 30 with error 0.02849626323452714\n",
            "At iteration 40 with error 0.0221610876641245\n",
            "At iteration 50 with error 0.016997040719201273\n",
            "At iteration 60 with error 0.012664700910607785\n",
            "At iteration 70 with error 0.009499649295577228\n",
            "At iteration 80 with error 0.0069715333155881964\n",
            "At iteration 90 with error 0.005015429049663567\n",
            "At iteration 100 with error 0.0033146145265896543\n",
            "At iteration 110 with error 0.0023908259326983483\n",
            "At iteration 120 with error 0.001734370411104802\n",
            "At iteration 130 with error 0.001030451308086544\n",
            "At iteration 140 with error 0.0007433637839948659\n",
            "At iteration 150 with error 0.0005318467715782482\n",
            "At iteration 160 with error 0.0001808090574519916\n",
            "At iteration 170 with error 0.0001635204705587867\n",
            "At iteration 180 with error 0.00012761969758612324\n",
            "At iteration 190 with error 0.00011541696691486081\n",
            "At iteration 200 with error 0.00010438103602972149\n",
            "Computed equilibrium with short-run policy 3.8877 in 205 iterations and 53.89103722572327 seconds\n"
          ]
        }
      ],
      "source": [
        "# firm = create_firm()\n",
        "# household = create_household()\n",
        "# print(\"\\nComputing equilibrium capital stock\")\n",
        "# start = time.time()\n",
        "# K_star, n = compute_equilibrium_short(firm, household, K0=6.0, verbose=True)\n",
        "# elapsed = time.time() - start\n",
        "# print(f\"Computed equilibrium with short-run policy {K_star:.5} in {n} iterations and {elapsed} seconds\")"
      ]
    },
    {
      "cell_type": "code",
      "execution_count": 40,
      "metadata": {
        "id": "dffp55Iu-y10"
      },
      "outputs": [],
      "source": [
        "def plot_SRPE_capital(firm, β_value=[0.2, 0.4, 0.6, 0.8, 1.0], verbose=False):\n",
        "    # First, get the SRPE Capital\n",
        "    K_value = []\n",
        "\n",
        "    for β in β_value:\n",
        "        if verbose:\n",
        "            print(f\"Computing equilibrium for β={β}\")\n",
        "        household = create_household(β=β)\n",
        "        try:\n",
        "            K_star, n = compute_equilibrium_short(firm, household)\n",
        "            K_value.append(K_star)\n",
        "        except Exception as e:\n",
        "            print(f\"Failed to compute equilibrium for β={β}: {e}\")\n",
        "            K_value.append(None)\n",
        "\n",
        "    # Plot the SRPE Capital\n",
        "    fig, ax = plt.subplots(figsize=(10, 6))\n",
        "    ax.plot(β_value, K_value, 'o-', linewidth=2, markersize=8)\n",
        "\n",
        "    # Add value labels\n",
        "    for i, (β, K) in enumerate(zip(β_value, K_value)):\n",
        "        if K is not None:\n",
        "            ax.annotate(f'{K:.2f}', (β, K), xytext=(0, 10),\n",
        "                        textcoords='offset points', ha='center')\n",
        "\n",
        "    ax.grid(True, linestyle='--', alpha=0.7)\n",
        "    ax.set_xlabel(r'$\\beta$', fontsize=14)\n",
        "    ax.set_ylabel(r'$K_{SRPE}$', fontsize=14)\n",
        "    ax.set_title(r'SRPE Capital as a function of $\\beta$', fontsize=16)\n",
        "\n",
        "    plt.tight_layout()\n",
        "    plt.show()\n",
        "\n",
        "    return fig, ax"
      ]
    },
    {
      "cell_type": "code",
      "execution_count": 41,
      "metadata": {
        "colab": {
          "base_uri": "https://localhost:8080/",
          "height": 728
        },
        "id": "X6mL84Vg_4LR",
        "outputId": "cba8612a-366d-4e33-d4d2-df679649abee"
      },
      "outputs": [
        {
          "name": "stdout",
          "output_type": "stream",
          "text": [
            "Computing equilibrium for β=0.2\n",
            "Computing equilibrium for β=0.4\n",
            "Computing equilibrium for β=0.6\n",
            "Computing equilibrium for β=0.8\n",
            "Computing equilibrium for β=1.0\n"
          ]
        },
        {
          "data": {
            "image/png": "[encoded data removed]",
            "text/plain": [
              "<Figure size 1000x600 with 1 Axes>"
            ]
          },
          "metadata": {},
          "output_type": "display_data"
        },
        {
          "data": {
            "text/plain": [
              "(<Figure size 1000x600 with 1 Axes>,\n",
              " <Axes: title={'center': 'SRPE Capital as a function of $\\\\beta$'}, xlabel='$\\\\beta$', ylabel='$K_{SRPE}$'>)"
            ]
          },
          "execution_count": 41,
          "metadata": {},
          "output_type": "execute_result"
        }
      ],
      "source": [
        "# firm = create_firm()\n",
        "# plot_SRPE_capital(firm, verbose=True)\n"
      ]
    },
    {
      "cell_type": "markdown",
      "metadata": {
        "id": "Gtsi6r5ELdr6"
      },
      "source": [
        "### Equilibrium associated with the continuation policy\n",
        "\n",
        "β"
      ]
    },
    {
      "cell_type": "markdown",
      "metadata": {
        "id": "X73CYW-qLi6P"
      },
      "source": [
        "We change\n",
        "\n",
        "- `G_short` to `G_continuation`\n",
        "\n",
        "- `compute_equilibrium_short` to `compute_equilibrium_continuation`"
      ]
    },
    {
      "cell_type": "markdown",
      "metadata": {
        "id": "gXLKl4uSL8oI"
      },
      "source": [
        "First, we get the  `G_continuation`"
      ]
    },
    {
      "cell_type": "code",
      "execution_count": 23,
      "metadata": {
        "id": "0wyhJh_bMHXd"
      },
      "outputs": [],
      "source": [
        "def G_continuation(K, firm, household):\n",
        "    # Get prices r, w associated with K\n",
        "    r = r_given_k(K, firm)\n",
        "    w = r_to_w(r, firm)\n",
        "    # Generate a household object with these prices, compute\n",
        "    # aggregate capital.\n",
        "    prices = create_prices(r=r, w=w)\n",
        "\n",
        "    # this gives us the continuation policy\n",
        "    σ_c, v_c = howard_policy_iteration(household, prices)\n",
        "\n",
        "    return capital_supply(σ_c, household)"
      ]
    },
    {
      "cell_type": "markdown",
      "metadata": {
        "id": "afODKuIUMlkE"
      },
      "source": [
        "Then, we get  `compute_equilibrium_continuation`"
      ]
    },
    {
      "cell_type": "code",
      "execution_count": 24,
      "metadata": {
        "id": "Ialzaz1wMlG1"
      },
      "outputs": [],
      "source": [
        "def compute_equilibrium_continuation(firm, household,\n",
        "                        K0=6, γ=0.99, max_iter=1_000, tol=1e-4,\n",
        "                        print_skip=10, verbose=False):\n",
        "    n = 0\n",
        "    K = K0\n",
        "    error = tol + 1\n",
        "    while error > tol and n < max_iter:\n",
        "        new_K = γ * K + (1 - γ) * G_continuation(K, firm, household)\n",
        "        error = abs(new_K - K)\n",
        "        K = new_K\n",
        "        n += 1\n",
        "        if verbose and n % print_skip == 0:\n",
        "            print(f\"At iteration {n} with error {error}\")\n",
        "    return K, n"
      ]
    },
    {
      "cell_type": "code",
      "execution_count": null,
      "metadata": {
        "colab": {
          "base_uri": "https://localhost:8080/"
        },
        "id": "RQlX4l-NhGUZ",
        "outputId": "0038dd61-49c1-4cd7-c909-511079224422"
      },
      "outputs": [
        {
          "name": "stdout",
          "output_type": "stream",
          "text": [
            "\n",
            "Computing equilibrium capital stock\n",
            "At iteration 10 with error 0.06490545798825043\n",
            "At iteration 20 with error 0.03626685465742874\n",
            "At iteration 30 with error 0.021452703682580676\n",
            "At iteration 40 with error 0.013383829253038826\n",
            "At iteration 50 with error 0.008397515264451982\n",
            "At iteration 60 with error 0.005656370053102933\n",
            "At iteration 70 with error 0.003750107819944226\n",
            "At iteration 80 with error 0.0024816210955460605\n",
            "At iteration 90 with error 0.0017352118525710836\n",
            "At iteration 100 with error 0.0009559876839571047\n",
            "At iteration 110 with error 0.0006843412658508186\n",
            "At iteration 120 with error 0.00046762845631675987\n",
            "At iteration 130 with error 0.00038193101011607666\n",
            "At iteration 140 with error 0.00019421626809901227\n",
            "At iteration 150 with error 0.00017041810881579522\n",
            "At iteration 160 with error 0.00015412308287032772\n",
            "At iteration 170 with error 0.00013938615349395889\n",
            "Computed equilibrium with continuaton policy 8.0918 in 176 iterations and 55.13689160346985 seconds\n"
          ]
        }
      ],
      "source": [
        "# firm = create_firm()\n",
        "# household = create_household()\n",
        "# print(\"\\nComputing equilibrium capital stock\")\n",
        "# start = time.time()\n",
        "# K_star, n = compute_equilibrium_continuation(firm, household, K0=6.0, verbose=True)\n",
        "# elapsed = time.time() - start\n",
        "# print(f\"Computed equilibrium with continuaton policy {K_star:.5} in {n} iterations and {elapsed} seconds\")"
      ]
    },
    {
      "cell_type": "markdown",
      "metadata": {
        "id": "4Qr-0_gjgSWk"
      },
      "source": [
        "## Stationary Asset Distribution at equilibrium."
      ]
    },
    {
      "cell_type": "markdown",
      "metadata": {
        "id": "xcBF6K_KM0P8"
      },
      "source": [
        "### For the short-run policy equilibrium"
      ]
    },
    {
      "cell_type": "markdown",
      "metadata": {
        "id": "MeFWmH4YgaCx"
      },
      "source": [
        "For the short-run policy, we use the following function to plot the stationary asset distribution.  "
      ]
    },
    {
      "cell_type": "code",
      "execution_count": 37,
      "metadata": {
        "id": "KC3PzGOfw9sf"
      },
      "outputs": [],
      "source": [
        "def plot_asset_distribution_short(firm, household):\n",
        "\n",
        "  # First, get the short-run policy Equilibrium (SRPE) Capital, interest rate, wage\n",
        "  K_star, n = compute_equilibrium_short(firm, household)\n",
        "  r = r_given_k(K_star, firm)\n",
        "  w = r_to_w(r, firm)\n",
        "\n",
        "  # Compute the SRPE prices\n",
        "  prices = create_prices(r=r, w=w)\n",
        "\n",
        "  # Compute lifetime value function and optimal policy\n",
        "  σ_star, v_star = compute_lifetime(household, prices)\n",
        "\n",
        "  # asset distribution at SRPE\n",
        "  ψ = compute_asset_stationary(σ_star, household)\n",
        "\n",
        "  # plot the stationary asset distribution at  SRPE\n",
        "  fig, ax = plt.subplots()\n",
        "  ax.bar(household.a_grid, ψ)\n",
        "  ax.set_xlabel(\"asset level\")\n",
        "  ax.set_ylabel(\"Probability Mass\")\n",
        "  ax.set_title(\"stationary asset distribution at SRPE\")\n",
        "  plt.show()"
      ]
    },
    {
      "cell_type": "markdown",
      "metadata": {
        "id": "MCQIZk5VyRlI"
      },
      "source": [
        "### For the continuation policy equilibrium"
      ]
    },
    {
      "cell_type": "markdown",
      "metadata": {
        "id": "SNHNjcRUNBAk"
      },
      "source": [
        "Similarly, we modified the above function to plot the continuation policy equilibrium (CPE)"
      ]
    },
    {
      "cell_type": "code",
      "execution_count": 26,
      "metadata": {
        "id": "eY9izhEWN2R4"
      },
      "outputs": [],
      "source": [
        "def plot_asset_distribution_continuation(firm, household):\n",
        "\n",
        "  # First, get the CPE Capital, interest rate, wage\n",
        "  K_star, n = compute_equilibrium_continuation(firm, household)\n",
        "  r = r_given_k(K_star, firm)\n",
        "  w = r_to_w(r, firm)\n",
        "\n",
        "  # Compute the CPE prices\n",
        "  prices = create_prices(r=r, w=w)\n",
        "\n",
        "  # Compute lifetime value function and optimal policy\n",
        "  σ_c, v_c = howard_policy_iteration(household, prices)\n",
        "\n",
        "  # asset distribution at CPE\n",
        "  ψ = compute_asset_stationary(σ_c, household)\n",
        "\n",
        "  # plot the stationary asset distribution at  CPE\n",
        "  fig, ax = plt.subplots()\n",
        "  ax.bar(household.a_grid, ψ)\n",
        "  ax.set_xlabel(\"asset level\")\n",
        "  ax.set_ylabel(\"Probability Mass\")\n",
        "  ax.set_title(\"stationary asset distribution at CPE\")\n",
        "  plt.show()"
      ]
    },
    {
      "cell_type": "markdown",
      "metadata": {
        "id": "xA7ir9-xONWX"
      },
      "source": [
        "## What happens with the Mixed Action?"
      ]
    },
    {
      "cell_type": "markdown",
      "metadata": {
        "id": "9GUJv1imORlv"
      },
      "source": [
        "The mixed actions represent the behavioral aspect of the agent.\n",
        "\n",
        "- there is an unexpected shock with a probability $\\omega$ that the agent will have discount factor $\\beta\\delta$ instead of $\\delta$ at the beginning of each period.\n",
        "\n",
        "- this probability $\\omega$ represents the parameter of self-control.\n",
        "\n",
        "- With probability $1-\\omega$, agents can control themselves to stay with discount factor $\\delta$."
      ]
    },
    {
      "cell_type": "markdown",
      "metadata": {
        "id": "0WF8iB4CPom3"
      },
      "source": [
        "### What happens to the equilibrium?"
      ]
    },
    {
      "cell_type": "markdown",
      "metadata": {
        "id": "Olz7S59qPs_7"
      },
      "source": [
        "There will be two equilibrium.\n",
        "\n",
        "- SRPE is the equilibrium level when agents find that their discount factor is $\\beta\\delta$\n",
        "\n",
        "- CPE is the equilibrium level when agents find that their discount factor is $\\delta$"
      ]
    },
    {
      "cell_type": "markdown",
      "metadata": {
        "id": "Mbnfj9OqQByQ"
      },
      "source": [
        "### What happens to the stationary asset distribution?"
      ]
    },
    {
      "cell_type": "markdown",
      "metadata": {
        "id": "_9hvftA0QGc4"
      },
      "source": [
        "There are two stationary asset distribution corresponding to each equilibrium.\n",
        "\n",
        "Another way to look at stationary distribution is using a weighted average of these two Markov matrices.\n",
        "\n",
        "Denote $P_{short}$ as the Markov matrix for the short-run policy.\n",
        "\n",
        "Denote $P_{continuation}$ as the Markov matrix for the continuation policy.\n",
        "\n",
        "Then, since we know that with probability $\\omega$, we will apply $P_{short}$ and probability $1-\\omega$ to apply $P_{continuation}$, we have\n",
        "\n",
        "$$\n",
        "P_{MA} = \\omega P_{short} + (1-\\omega) P_{continuation}\n",
        "$$\n",
        "\n",
        "Here we find the stationary distribution of $P_{MA}$"
      ]
    },
    {
      "cell_type": "markdown",
      "metadata": {
        "id": "yU8C4FmRSXuf"
      },
      "source": [
        "### Stationary distribution for the Mixed Actions"
      ]
    },
    {
      "cell_type": "markdown",
      "metadata": {
        "id": "XB7NcSNgSdQc"
      },
      "source": [
        "First, we use the following function to compute the mixed stationary distribution.\n",
        "\n",
        "ω"
      ]
    },
    {
      "cell_type": "code",
      "execution_count": 27,
      "metadata": {
        "id": "Yt6zolpfTVbP"
      },
      "outputs": [],
      "source": [
        "@jax.jit\n",
        "def compute_asset_stationary_mixed(σ_s, # short-run policy\n",
        "                                   σ_c, # continuation policy\n",
        "                                   household,\n",
        "                                   ω=0.0 # self-control parameter\n",
        "                                   ):\n",
        "    # Unpack\n",
        "    β, δ, a_grid, z_grid, Π = household\n",
        "    a_size, z_size = len(a_grid), len(z_grid)\n",
        "\n",
        "    # Construct P_σ as an array of the form P_σ[i, j, ip, jp]\n",
        "    ap_idx = jnp.arange(a_size)\n",
        "    ap_idx = jnp.reshape(ap_idx, (1, 1, a_size, 1))\n",
        "\n",
        "    σ_s = jnp.reshape(σ_s, (a_size, z_size, 1, 1))\n",
        "    σ_c = jnp.reshape(σ_c, (a_size, z_size, 1, 1))\n",
        "\n",
        "    A_s = jnp.where(σ_s == ap_idx, 1, 0)\n",
        "    A_c = jnp.where(σ_c == ap_idx, 1, 0)\n",
        "\n",
        "    Π = jnp.reshape(Π, (1, z_size, 1, z_size))\n",
        "\n",
        "    P_σ_s = A_s * Π\n",
        "    P_σ_c = A_c * Π\n",
        "\n",
        "    P_σ = ω * P_σ_s + (1 - ω) * P_σ_c   # Mixed action Markov matrix\n",
        "\n",
        "    # Reshape P_σ into a matrix\n",
        "    n = a_size * z_size\n",
        "    P_σ = jnp.reshape(P_σ, (n, n))\n",
        "\n",
        "    # Get stationary distribution and reshape back onto [i, j] grid\n",
        "    ψ = compute_stationary(P_σ)\n",
        "    ψ = jnp.reshape(ψ, (a_size, z_size))\n",
        "\n",
        "    # Sum along the rows to get the marginal distribution of assets\n",
        "    ψ_a = jnp.sum(ψ, axis=1)\n",
        "    return ψ_a"
      ]
    },
    {
      "cell_type": "markdown",
      "metadata": {
        "id": "8UtXkq1GURoy"
      },
      "source": [
        "Now, we use the following function to plot the stationary distribution for the mixed action markov matrix."
      ]
    },
    {
      "cell_type": "code",
      "execution_count": 28,
      "metadata": {
        "id": "fFgQzJPWTVYo"
      },
      "outputs": [],
      "source": [
        "def plot_asset_distribution_mixed(firm, household, ω=0.0):\n",
        "\n",
        "  # First, get the CPE Capital, interest rate, wage\n",
        "  K_continuation, n = compute_equilibrium_continuation(firm, household)\n",
        "  r_continuation = r_given_k(K_continuation, firm)\n",
        "  w_continuation = r_to_w(r_continuation, firm)\n",
        "\n",
        "  # Compute the CPE prices\n",
        "  prices_continuation = create_prices(r=r_continuation, w=w_continuation)\n",
        "\n",
        "  # Compute lifetime value function and optimal policy\n",
        "  σ_c, v_c = howard_policy_iteration(household, prices_continuation)\n",
        "\n",
        "\n",
        "  K_short, n = compute_equilibrium_short(firm, household)\n",
        "  r_short = r_given_k(K_short, firm)\n",
        "  w_short = r_to_w(r_short, firm)\n",
        "\n",
        "  # Compute the SRPE prices\n",
        "  prices_short = create_prices(r=r_short, w=w_short)\n",
        "\n",
        "  # Compute lifetime value function and optimal policy\n",
        "  σ_s, v_s = compute_lifetime(household, prices_short)\n",
        "\n",
        "  # asset distribution with mixed actions\n",
        "  ψ = compute_asset_stationary_mixed(σ_s, σ_c, household, ω)\n",
        "\n",
        "  # plot the stationary asset distribution at  CPE\n",
        "  fig, ax = plt.subplots()\n",
        "  ax.bar(household.a_grid, ψ)\n",
        "  ax.set_xlabel(\"asset level\")\n",
        "  ax.set_ylabel(\"Probability Mass\")\n",
        "  ax.set_title(\"stationary asset distribution with Mixed Actions\")\n",
        "  plt.show()"
      ]
    },
    {
      "cell_type": "code",
      "execution_count": null,
      "metadata": {
        "colab": {
          "base_uri": "https://localhost:8080/",
          "height": 472
        },
        "id": "16sx6TUiXGPd",
        "outputId": "b10cd13d-394b-40a6-eafa-1dff265c54b1"
      },
      "outputs": [
        {
          "data": {
            "image/png": "[encoded data removed]",
            "text/plain": [
              "<Figure size 640x480 with 1 Axes>"
            ]
          },
          "metadata": {},
          "output_type": "display_data"
        }
      ],
      "source": [
        "# firm = create_firm()\n",
        "# household = create_household()\n",
        "# plot_asset_distribution_mixed(firm, household, ω=0.0)"
      ]
    },
    {
      "cell_type": "code",
      "execution_count": null,
      "metadata": {
        "colab": {
          "base_uri": "https://localhost:8080/",
          "height": 472
        },
        "id": "s__vBtbnZlju",
        "outputId": "ceb1f131-81bf-42ca-ea3f-af4424b8644f"
      },
      "outputs": [
        {
          "data": {
            "image/png": "[encoded data removed]",
            "text/plain": [
              "<Figure size 640x480 with 1 Axes>"
            ]
          },
          "metadata": {},
          "output_type": "display_data"
        }
      ],
      "source": [
        "# plot_asset_distribution_mixed(firm, household, ω=0.1)"
      ]
    },
    {
      "cell_type": "code",
      "execution_count": null,
      "metadata": {
        "colab": {
          "base_uri": "https://localhost:8080/",
          "height": 472
        },
        "id": "vS5YRJ-5a8Yt",
        "outputId": "14192a3a-bc28-425e-9631-4dd2819133d2"
      },
      "outputs": [
        {
          "data": {
            "image/png": "[encoded data removed]",
            "text/plain": [
              "<Figure size 640x480 with 1 Axes>"
            ]
          },
          "metadata": {},
          "output_type": "display_data"
        }
      ],
      "source": [
        "# plot_asset_distribution_mixed(firm, household, ω=0.3)"
      ]
    },
    {
      "cell_type": "code",
      "execution_count": null,
      "metadata": {
        "colab": {
          "base_uri": "https://localhost:8080/",
          "height": 472
        },
        "id": "BJCg1Rmua4SM",
        "outputId": "4edda57b-4525-411a-8562-2264493c2d00"
      },
      "outputs": [
        {
          "data": {
            "image/png": "[encoded data removed]",
            "text/plain": [
              "<Figure size 640x480 with 1 Axes>"
            ]
          },
          "metadata": {},
          "output_type": "display_data"
        }
      ],
      "source": [
        "# plot_asset_distribution_mixed(firm, household, ω=0.5)"
      ]
    },
    {
      "cell_type": "code",
      "execution_count": null,
      "metadata": {
        "colab": {
          "base_uri": "https://localhost:8080/",
          "height": 472
        },
        "id": "n5Wa6q0Da6G8",
        "outputId": "c1a4337d-a943-4dd5-d68b-0fedfe953f34"
      },
      "outputs": [
        {
          "data": {
            "image/png": "[encoded data removed]",
            "text/plain": [
              "<Figure size 640x480 with 1 Axes>"
            ]
          },
          "metadata": {},
          "output_type": "display_data"
        }
      ],
      "source": [
        "# plot_asset_distribution_mixed(firm, household, ω=0.7)"
      ]
    },
    {
      "cell_type": "code",
      "execution_count": null,
      "metadata": {
        "colab": {
          "base_uri": "https://localhost:8080/",
          "height": 472
        },
        "id": "tchFhYT8a9oV",
        "outputId": "2ec588a8-20d0-428d-e6fe-238a9cac2db0"
      },
      "outputs": [
        {
          "data": {
            "image/png": "[encoded data removed]",
            "text/plain": [
              "<Figure size 640x480 with 1 Axes>"
            ]
          },
          "metadata": {},
          "output_type": "display_data"
        }
      ],
      "source": [
        "# plot_asset_distribution_mixed(firm, household, ω=0.9)"
      ]
    },
    {
      "cell_type": "code",
      "execution_count": null,
      "metadata": {
        "colab": {
          "base_uri": "https://localhost:8080/",
          "height": 472
        },
        "id": "Icx2kBOla_P9",
        "outputId": "084c1c2e-cd4d-4ca3-94c7-902163e47106"
      },
      "outputs": [
        {
          "data": {
            "image/png": "[encoded data removed]",
            "text/plain": [
              "<Figure size 640x480 with 1 Axes>"
            ]
          },
          "metadata": {},
          "output_type": "display_data"
        }
      ],
      "source": [
        "# plot_asset_distribution_mixed(firm, household, ω=1)"
      ]
    }
  ],
  "metadata": {
    "accelerator": "GPU",
    "colab": {
      "gpuType": "T4",
      "provenance": []
    },
    "kernelspec": {
      "display_name": "Python 3",
      "name": "python3"
    },
    "language_info": {
      "name": "python"
    }
  },
  "nbformat": 4,
  "nbformat_minor": 0
}
